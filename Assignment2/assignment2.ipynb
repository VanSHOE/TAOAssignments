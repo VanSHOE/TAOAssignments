{
  "cells": [
    {
      "cell_type": "markdown",
      "metadata": {
        "id": "-XaCfZMSUNL-"
      },
      "source": [
        "# Linear and Quadratic Programming Using CVXOPT"
      ]
    },
    {
      "cell_type": "markdown",
      "metadata": {
        "id": "ZensYnePUNL_"
      },
      "source": [
        "The standard form for primal and dual linear programs (slightly different from what was done in class, here RHS of equality and inequality is not kept zero) in cvxopt library is given as follows\n",
        "$$\n",
        "\\begin{align*}\n",
        "\\text{minimize} \\quad &c^T x \\\\\n",
        "\\text{subject} \\quad &Gx \\leq h \\\\\n",
        "&Ax = b\\\\\n",
        "\\end{align*}\n",
        "$$"
      ]
    },
    {
      "cell_type": "markdown",
      "metadata": {
        "id": "87IWX1MIUNL_"
      },
      "source": [
        "We would like to solve the following linear programming problem.\n",
        "$$\n",
        "\\begin{align*}\n",
        "\\text{minimize} \\quad &-4x_1 - 5 x_2 \\\\\n",
        "\\text{subject to} \\quad &2x_1 + x_2 \\leq 3 \\\\\n",
        "&x_1 + 2x_2 \\leq 3 \\\\\n",
        "&x_1 \\geq 0, \\: x_2 \\geq 0.\n",
        "\\end{align*}\n",
        "$$\n",
        "We can write all inequalities as $\\leq$ as follows\n",
        "$$\n",
        "\\begin{align*}\n",
        "\\text{minimize} \\quad &-4x_1 - 5 x_2 \\\\\n",
        "\\text{subject to} \\quad &2x_1 + x_2 \\leq 3 \\\\\n",
        "&x_1 + 2x_2 \\leq 3 \\\\\n",
        "-&x_1 + 0 x_2 \\leq 0 \\\\\n",
        "&0 x_1 - x_2 \\leq 0.\n",
        "\\end{align*}\n",
        "$$\n",
        "\n",
        "To solve this using cvxopt library, we have\n",
        "$$\n",
        "G = \\begin{bmatrix}\n",
        "2 & 1 \\\\\n",
        "1 & 2 \\\\\n",
        "-1 & 0 \\\\\n",
        "0 & -1\n",
        "\\end{bmatrix}, \\quad c^T = [-4, -5], \\quad h = \\begin{bmatrix}\n",
        "3 \\\\\n",
        "3 \\\\\n",
        "0 \\\\\n",
        "0\n",
        "\\end{bmatrix}\n",
        "$$"
      ]
    },
    {
      "cell_type": "code",
      "execution_count": 1,
      "metadata": {
        "colab": {
          "base_uri": "https://localhost:8080/"
        },
        "id": "fXXx8sjmUNMA",
        "outputId": "7fc194b8-2334-46a7-9fff-5106aa02f7cd"
      },
      "outputs": [
        {
          "output_type": "stream",
          "name": "stdout",
          "text": [
            "     pcost       dcost       gap    pres   dres   k/t\n",
            " 0: -8.1000e+00 -1.8300e+01  4e+00  0e+00  8e-01  1e+00\n",
            " 1: -8.8055e+00 -9.4357e+00  2e-01  2e-16  4e-02  3e-02\n",
            " 2: -8.9981e+00 -9.0049e+00  2e-03  6e-16  5e-04  4e-04\n",
            " 3: -9.0000e+00 -9.0000e+00  2e-05  2e-16  5e-06  4e-06\n",
            " 4: -9.0000e+00 -9.0000e+00  2e-07  1e-16  5e-08  4e-08\n",
            "Optimal solution found.\n",
            "[ 1.00e+00]\n",
            "[ 1.00e+00]\n",
            "\n"
          ]
        }
      ],
      "source": [
        "from cvxopt import matrix, solvers\n",
        "c = matrix([-4., -5.])\n",
        "G = matrix([[2., 1., -1., 0.], [1., 2., 0., -1.]])\n",
        "h = matrix([3., 3., 0., 0.])\n",
        "sol = solvers.lp(c, G, h)\n",
        "print(sol['x'])"
      ]
    },
    {
      "cell_type": "markdown",
      "metadata": {
        "id": "EBqNrhrjUNMA"
      },
      "source": [
        "## Model a Linear Program and Solve it using CVXOPT\n",
        "Consider the problem of modeling a problem as linear programming problem.\n",
        "A car company BNW has 4 manufacturing branches all over India. Number of labour units, materials, and pollution units are given as follows:\n",
        "\n",
        "$$\n",
        "\\begin{array}{r|r}\n",
        "& Labourers & Resources & Pollution \\\\ \\hline\n",
        "Factory 1 & 30 & 30 & 10 \\\\\n",
        "Factory 2 & 30 & 60 & 5 \\\\\n",
        "Factory 3 & 40 & 70 & 3 \\\\\n",
        "Factory 4 & 20 & 30 & 11\n",
        "\\end{array}\n",
        "$$\n",
        "\n",
        "Let $x_1, x_2, x_3, x_4$ be the number of cars produced at these factories. The objective is to maximize the number of cars produced, given the following constraints:\n",
        "\n",
        "<ol>\n",
        "<li> Factory 3 must produce at least 4 cars\n",
        "    <li> All other factories must produce at least 1 car\n",
        "<li> The total labour hours available is 4000, and\n",
        "<li> The number of material resources available is 16000\n",
        "<li> Total units of pollution must not be more than 12000\n",
        "</ol>"
      ]
    },
    {
      "cell_type": "markdown",
      "metadata": {
        "id": "uNpeYV_bUNMB"
      },
      "source": [
        "$\\color{red}{Question:}$ Model the above problem as linear program."
      ]
    },
    {
      "cell_type": "markdown",
      "metadata": {
        "id": "w0_QL8mWUNMB"
      },
      "source": [
        "$\\color{blue}{Answer:}$"
      ]
    },
    {
      "cell_type": "markdown",
      "metadata": {
        "id": "ZXLO_W6CUNMB"
      },
      "source": [
        "$\\color{red}{Question:}$ Write the constraint matrices and vectors."
      ]
    },
    {
      "cell_type": "markdown",
      "metadata": {
        "id": "zPHQ0XMNUNMB"
      },
      "source": [
        "$\\color{blue}{Answer:}$"
      ]
    },
    {
      "cell_type": "markdown",
      "metadata": {
        "id": "xF9Hwne1UNMB"
      },
      "source": [
        "$\\color{red}{Question:}$ Write python code, and show solution."
      ]
    },
    {
      "cell_type": "markdown",
      "metadata": {
        "id": "e2D9u-tiUNMC"
      },
      "source": [
        "$\\color{blue}{Answer:}$"
      ]
    },
    {
      "cell_type": "markdown",
      "metadata": {
        "id": "Z9vRub3bUNMC"
      },
      "source": [
        "Your solution should be:\n",
        "\n",
        "[ 1.00e+00]\n",
        "[ 1.00e+00]\n",
        "[ 4.00e+00]\n",
        "[ 1.89e+02]"
      ]
    },
    {
      "cell_type": "markdown",
      "metadata": {
        "id": "7pYLJ5WxUNMC"
      },
      "source": [
        "# Quadratic Program\n",
        "We can write a quadratic program as follows:\n",
        "$$\n",
        "\\begin{align*}\n",
        "\\text{minimize} \\quad &(1/2)x^T P x + q^T x \\\\\n",
        "\\text{subject to} \\quad &Gx \\leq h \\\\\n",
        "&Ax = b\n",
        "\\end{align*}\n",
        "$$"
      ]
    },
    {
      "cell_type": "markdown",
      "metadata": {
        "id": "FcWFmbtqUNMC"
      },
      "source": [
        "Consider the following quadratic program.\n",
        "$$\n",
        "\\begin{align*}\n",
        "\\text{minimize} \\quad &2x_1^2 + x_2^2 + x_1x_2 + x_1 + x_2 \\\\\n",
        "\\text{subject to} \\quad &x_1 \\geq 0 \\\\\n",
        "&x_2 \\geq 0 \\\\\n",
        "&x_1 + 2x_2 = 1\n",
        "\\end{align*}\n",
        "$$"
      ]
    },
    {
      "cell_type": "markdown",
      "source": [],
      "metadata": {
        "id": "ULH9jNoLUl7n"
      }
    },
    {
      "cell_type": "markdown",
      "metadata": {
        "id": "hCLMBoSRUNMC"
      },
      "source": [
        "$\\color{red}{Question:}$ Identify $P, q, G, A, h, b$"
      ]
    },
    {
      "cell_type": "markdown",
      "metadata": {
        "id": "1wVpB0DPUNMC"
      },
      "source": [
        "$\\color{red}{Answer:}$ Write your answer here."
      ]
    },
    {
      "cell_type": "markdown",
      "metadata": {
        "id": "GshChGk0UNMC"
      },
      "source": [
        "$\\color{red}{Question:}$ Complete the python code below by filling the matrices found above."
      ]
    },
    {
      "cell_type": "code",
      "execution_count": null,
      "metadata": {
        "id": "8R1WRCjGUNMC"
      },
      "outputs": [],
      "source": [
        "from cvxopt import matrix, solvers\n",
        "Q = TODO\n",
        "p = TODO\n",
        "G = TODO\n",
        "h = TODO\n",
        "A = TODO\n",
        "b = TODO\n",
        "sol=solvers.qp(Q, p, G, h, A, b)"
      ]
    },
    {
      "cell_type": "markdown",
      "metadata": {
        "id": "1qXnzXqGUNMC"
      },
      "source": [
        "The solution should be:\n",
        "\n",
        "[ 0]\n",
        "\n",
        "[ 0.5]"
      ]
    }
  ],
  "metadata": {
    "kernelspec": {
      "display_name": "Python 3 (ipykernel)",
      "language": "python",
      "name": "python3"
    },
    "language_info": {
      "codemirror_mode": {
        "name": "ipython",
        "version": 3
      },
      "file_extension": ".py",
      "mimetype": "text/x-python",
      "name": "python",
      "nbconvert_exporter": "python",
      "pygments_lexer": "ipython3",
      "version": "3.11.2"
    },
    "colab": {
      "provenance": []
    }
  },
  "nbformat": 4,
  "nbformat_minor": 0
}