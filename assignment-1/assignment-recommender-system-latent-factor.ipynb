{
 "cells": [
  {
   "cell_type": "markdown",
   "metadata": {},
   "source": [
    "# Topics in Applied Optimization (IIIT, Hyderabad, India)\n",
    "\n",
    "# Jupyter Notebook Assignment-1\n",
    "\n",
    "### Instructor: Dr. Pawan Kumar (IIIT, H) (https://faculty.iiit.ac.in/~pawan.kumar/)\n",
    "\n",
    "If you are not familiar with Jupyter notebook, before proceeding further, please go and watch this video:\n",
    "\n",
    "https://www.youtube.com/watch?v=HW29067qVWk\n",
    "\n",
    "## Regarding assignments\n",
    "\n",
    "### Deadline: 13 October 2023\n",
    "\n",
    "- all the assignment is to be done in this notbook itself\n",
    "- any proof etc can be done on paper, and image is to be inserted in this notebook\n",
    "- save this notebook with your roll number and upload it in moodle\n",
    "- basic familiarity with python is required, brush up if necessary\n",
    "- you are not allowed to use any existing library for gradient methods; this defeats the purpose of this assignment\n",
    "- sample output is in the zip file of assignment\n",
    "- if there are any doubt, then raise it in course moodle site, it may help others\n",
    "- if you find typo, raise this issue in moodle promptly!\n",
    "- please avoid copying from others, there may be oral exam to test your knowledge\n"
   ]
  },
  {
   "cell_type": "markdown",
   "metadata": {},
   "source": [
    "# Implementation of Recommender System Using Latent Factor Model in Python\n",
    "\n",
    "Please refer to the class slides for more detail. Also, for full detail, please refer the following main reference:\n",
    "\n",
    "**[1] Y. Koren, R. Bell, and C. Volinsky, Matrix Factorization Techniques for Recommender Systems, Computer Archive, Volume 42, Issue 8, 2009**\n",
    "\n",
    "We first load the necessary libraries:\n",
    "\n",
    "1. matplotlib: needed for plotting figures and\n",
    "2. numpy needed for doing math\n"
   ]
  },
  {
   "cell_type": "code",
   "execution_count": null,
   "metadata": {},
   "outputs": [],
   "source": [
    "%matplotlib inline\n",
    "import matplotlib\n",
    "import matplotlib.pyplot as plt\n",
    "import numpy as np"
   ]
  },
  {
   "cell_type": "markdown",
   "metadata": {},
   "source": [
    "# Now we write the main functions\n",
    "\n",
    "We write everything inside a class LF, which stands for latent factor. We need the following functions:\n",
    "\n",
    "1. main\n",
    "2. train\n",
    "3. mse\n",
    "4. sgd\n",
    "5. predict\n",
    "6. full_matrix\n"
   ]
  },
  {
   "cell_type": "markdown",
   "metadata": {},
   "source": [
    "# Short Tutorial on Recommender Systems\n",
    "\n",
    "Please see lecture slides for more detail.\n"
   ]
  },
  {
   "cell_type": "markdown",
   "metadata": {},
   "source": [
    "## Latent Factor Model\n",
    "\n",
    "In a recommender systems, we are given an incomplete ratings matrix say R. The $(i,j)$ entry of this matrix is denoted by $r_{ij}.$\n",
    "\n",
    "- We believe that there are dependencies in the matrix, i.e., the matrix is low rank, hence it can be written as a product of low rank matrices.\n",
    "- Even if the matrix is not strictly low rank, we believe that certain features are more important than others. In other words, if the ratings matrix were full, then after doing SVD, we get\n",
    "  $$R = U S V^T$$\n",
    "  some of the singular values were very small, hence the matrix can be approximated well with truncated SVD. Let us consider the first $k$ largest singular vectors, then the truncated SVD is\n",
    "  $$R \\approx U_k S_k V_k.$$\n",
    "- See IPSC notes for more detail on how to compute SVD or truncated SVD\n",
    "- For a recomendation problem, for example, movie recomendation or news recommendation or product recommendation, etc, we believe that certain latent features are most important and play a major role in ratings.\n",
    "- For movie recommendation, for example, latent factors could be comedy, adventure, horror, etc. These features are called latent, because the given data, which is ratings matrix does not explicitely tells about these.\n",
    "- For recommendation systems, we cannot do SVD, because the matrix $R$ is incomplete! Obviously, we cant treat the missing entries to be zero! Hence, instead of doing SVD, we will consider an error function that consider only the ratings that are given. Let us assume that the ratings matrix can be modelled as a latent factors, i.e., suppose that $$R = PQ, \\quad P \\in \\mathbb{R}^{n \\times k}, Q \\in \\mathbb{R}^{k \\times n},$$ then the given rating $$r_{ij} = p_{i*}q_{*j},$$ where $p_{i*}$ denotes the $i$th row of $P,$ and $q_{*j}$ denotes the $j$th column of $Q.$\n"
   ]
  },
  {
   "cell_type": "markdown",
   "metadata": {},
   "source": [
    "## Optimization Model\n",
    "\n",
    "- As mentioned above, we cannot directly do SVD, however, we can indeed create a **loss function** as follows:\n",
    "  $$\\mathcal{L}(p_{1*}, p_{2*}, \\dots p_{n*}, q_{*1}, q_{*2}, \\dots, q_{*n}) = \\sum_{(i,j) \\in K} (r_{ij} - p_{i*}q_{*j}).$$\n",
    "- Note above that we see loss function as a function the variables $p_{1*}, p_{2*}, \\dots, p_{*n},$ which are row vectors of $P,$ and as the column vectors of $Q,$ which are $q_{*1}, q_{*2}, \\dots, q_{*n}.$ This allows us to **vectorize**. Why vectorize?\n",
    "- In machine learning the weights and their combinations with the given data creates a model. In this case, the model is $PQ.$ Since the $k,$ is a hyperparameter, it is likely that one may choose $P$ and $Q$ to have too many columns, i.e., too many weights are used, this will lead to a large model, and hence leading to **overfitting**.\n",
    "  If you are not familiar with overfitting, then pause here, and see the video here:\n",
    "\n",
    "https://www.youtube.com/watch?v=u73PU6Qwl1I\n",
    "\n",
    "    - What did you learn from video?\n",
    "    - What is termed as model?\n",
    "    - What is the meaning of model being large?\n",
    "    - What is the difference between linear and logistic regression?\n",
    "    - What is underfitting?\n",
    "    - What is a bias?\n",
    "    - How do you characterize bias and variance using terms overfitting or underfitting?\n",
    "\n",
    "- A well known way to avoid overfitting is to do regularizations, by penalizing **large model** size. Let us modify our loss function as follows:\n",
    "\n",
    "  $$\n",
    "  \\mathcal{L}(\\cdot) = \\sum_{(i,j) \\in K} (r_{ij} - p_{i*}q_{*j})^2 + \\gamma/2 (\\| P \\|_F^2 + \\| Q \\|_F^2)\n",
    "\n",
    "  $$ - We have added the term $\\gamma/2(\\| P \\|_F^2 + \\| Q \\|_F^2).$ It is called **regularization term** - he parameter $\\gamma$ is called the **regularization parameter** - High $\\gamma$ would mean that we don't want big model size; this may help prevent overfitting\n",
    "  $$\n",
    "\n",
    "- Let $e_{ij}$ denote the error corresponding to each $(ij)$ term,\n",
    "  $$e_{ij} = r_{ij} - \\sum_{s=1}^k p_{is}q_{sj}$$\n",
    "  then let us define the new error term $\\tilde{e}$\n",
    "  $$\\tilde{e}_{ij} = e_{ij}^2 + \\gamma/2 (\\|P\\|_F^2 + \\| Q \\|_F^2),$$\n",
    "  that is,\n",
    "  $$\\tilde{e}_{ij} = (r_{ij} - \\sum_{s=1}^k p_{is}q_{sj} )^2 + \\gamma/2 (\\|P\\|_F^2 + \\| Q \\|_F^2)$$\n",
    "- Note that $$\\mathcal{L}(\\cdot) = \\sum_{(i,j) \\in \\mathcal{K}} \\tilde{e}_{ij},$$\n",
    "  where $\\mathcal{K}$ is the set of all indices for which ratings $r_{ij}$ are available.\n"
   ]
  },
  {
   "cell_type": "markdown",
   "metadata": {},
   "source": [
    "## Gradient Method Versus Stochastic Gradient Methods\n",
    "\n",
    "Following notes are taken from\n",
    "https://en.wikipedia.org/wiki/Stochastic_gradient_descent\n",
    "\n",
    "For large dataset, $k$ and $n$ tend to be large, and computing gradient fully becomes too demanding. In machine learning or statistical estimation, we are usually required to find minimum of the loss functions of the form\n",
    "$$Q(w) = 1/n \\sum_{j=1}^n Q_j (w)$$\n",
    "That is loss function as \"additive\" decomposition. In other words, the loss function is a sum of the loss function where the sum is over the data samples. If $n$ is large, then computing full gradient is computationally demanding. However, if we indeed decide to run the gradient method. Then we recall the following steps:\n",
    "\n",
    "1. Take initial random weight (possibly random and normally distributed between 0 and 1): $w^0$\n",
    "2. $w^{i+1} = w^i - \\alpha \\nabla Q(w^i), \\quad i=0, \\dots$\n",
    "\n",
    "Here the gradient $\\nabla Q$ is the full gradient in the sense that\n",
    "\n",
    "$$\n",
    "\\begin{align}\n",
    "\\nabla Q(w) = \\sum{i=1}^n \\nabla{w}Q_i(w). \\label{grad} \\tag{1}\n",
    "\\end{align}\n",
    "$$\n",
    "\n",
    "Here\n",
    "\\begin{align}\n",
    "\\nabla_w Q_i (w) = \\begin{bmatrix}\n",
    "\\dfrac{\\partial Q_i (w)}{\\partial w_1} \\\\\n",
    "\\dfrac{\\partial Q_i (w)}{\\partial w_1} \\\\\n",
    "\\vdots \\\\\n",
    "\\dfrac{\\partial Q_i (w)}{\\partial w_n} \\\\\n",
    "\\end{bmatrix} \\label{grad2} \\tag{2}\n",
    "\\end{align}\n",
    "\n",
    "### Stochastic gradient descent method\n",
    "\n",
    "Stochastic gradient merthod, in short, SGD is a method (not necessarily descent due to stochasticity, but in expectation is usually is a descent), where the gradient is computed partially. For example, instead of summing for all $i=1...n,$ we can take a random sample, say $j_1,$ and do the update only for this sample as follows:\n",
    "$$\\nabla Q(w) = \\nabla_{w}Q_{j_1}(w),$$\n",
    "that is we have picked just one of the term i.e., $j_1$th term from \\eqref{grad}.\n",
    "Then the SGD update is:\n",
    "$$w^{i+1} = w^i - \\alpha \\nabla Q_{j_1}(w^i), \\quad i=0, \\dots$$\n",
    "Note that we could have taken few more terms in the sum, and would have updated for a batch. This is called, batched stochastic gradient descent.\n",
    "It sounds incorrect, isnt it? Why such method may converge? With some basic assumption on the loss function, we can prove some convergence in expectance. More on convergence theory in class!\n"
   ]
  },
  {
   "cell_type": "markdown",
   "metadata": {},
   "source": [
    "$\\color{red}{\\text{Question-0:}}$ Compute the full gradient of the loss function for recommendation system\n",
    "\n",
    "$\\color{red}{\\text{Answer:}}$\n",
    "\n",
    "Given the loss function for the recommendation system:\n",
    "\n",
    "$$\n",
    "\\mathcal{L}(p, q) = e_{ij}^2 + \\gamma (||p||^2 + ||q||^2)\n",
    "$$\n",
    "\n",
    "where the error term $ e\\_{ij} $ is given by:\n",
    "\n",
    "$$\n",
    "e_{ij} = r_{ij} - p^T q\n",
    "$$\n",
    "\n",
    "The gradient with respect to the latent factors $ p $ and $ q $ are:\n",
    "\n",
    "$$\n",
    "\\nabla_p \\mathcal{L} = -2 e_{ij} q + 2\\gamma p\n",
    "$$\n",
    "\n",
    "$$\n",
    "\\nabla_q \\mathcal{L} = -2 e_{ij} p + 2\\gamma q\n",
    "$$\n",
    "\n",
    "Here, $ \\nabla_p \\mathcal{L} $ represents the gradient of the loss function with respect to $ p $ and $ \\nabla_q \\mathcal{L} $ represents the gradient with respect to $ q $. These gradients guide the updates to the latent factors during the optimization process.\n"
   ]
  },
  {
   "cell_type": "markdown",
   "metadata": {},
   "source": [
    "In the following, we derive a stochastic gradient for the loss function for recommender loss.\n"
   ]
  },
  {
   "cell_type": "markdown",
   "metadata": {},
   "source": [
    "## Gradient Method for Optimization Problem\n",
    "\n",
    "- We want to use gradient method to minimize the error. An update in gradient method is given as follows\n",
    "  $$w^{i+1} = w^i - \\nabla \\mathcal{L}(w^i)$$\n",
    "- To use gradient method, we need to compute gradient. If we see $\\mathcal{L}$ as a function of $p_{ik}'$s and $q_{ki}'$s, then\n",
    "  $$\\dfrac{\\partial \\mathcal{L}}{\\partial p_{is}} = 2e_{is} \\dfrac{\\partial e_{is}}{\\partial p_{is}} + \\gamma p_{is} = -2e_{is} q_{sj} + \\gamma p_{is}$$\n",
    "  Similarly,\n",
    "  $$\\dfrac{\\partial \\mathcal{L}}{\\partial q_{sj}} = 2e_{sj} \\dfrac{\\partial e_{sj}}{\\partial q_{sj}}+\\gamma q_{sj} = -2e_{sj}p_{js} + \\gamma q_{sj},$$\n",
    "- The gradient vector $\\nabla \\mathcal{L}$ is given by\n",
    "  $$\\nabla \\mathcal{L} = \\left(\\dfrac{\\partial \\mathcal{L}}{\\partial p_{11}}, \\dots, \\dfrac{\\partial \\mathcal{L}}{\\partial p_{nk}}, \\dfrac{\\partial \\mathcal{L}}{\\partial q_{11}}, \\dots, \\dfrac{\\partial \\mathcal{L}}{\\partial p_{kn}} \\right)$$\n",
    "- The weights $p_{is}$ can be updated as\n",
    "  $$p_{is} = p_{is} + \\alpha (2e_{ij} q_{sj} - \\gamma p_{is}) $$\n",
    "- The weights $p_{sj}$ can be updated as\n",
    "  $$q_{sj} = q_{sj} + \\alpha (2e_{ij} p_{js} - \\gamma q_{sj}) $$\n",
    "- We can vectorize $s.$ Finally, the vectorized form of the update looks like:\n",
    "  $$(p_{i+1*}, q_{*j+1})^T = (p_{i*}, q_{*j})^T + \\alpha ((2e_{ij} q_{*j} - \\gamma p_{i*}), (2e_{ij} p_{j*} - \\gamma q_{*j}))^T  $$\n",
    "- The error at $(p_{i*}, q_{*j})^T$ nedded above can be computed by $$e_{ij} =  r_{ij} - \\text{prediction at}~ (i,j) $$\n",
    "  Here prediction at $(i,j)$ can be computed by making a call to predict() function below.\n"
   ]
  },
  {
   "cell_type": "markdown",
   "metadata": {},
   "source": [
    "$\\color{red}{\\text{Question-1:}}$ Why the error is computed this way?\n",
    "\n",
    "$\\color{red}{\\text{Answer:}}$ Either use latex (preferred) or write it on paper, take pic, and insert it here. See the video on jupyter above on how to paste images.\n",
    "\n",
    "The error $e_{ij}$ is computed as the difference between the actual rating $ r\\_{ij} $ and the predicted rating for user i and item j. In mathematical terms:\n",
    "\n",
    "$$\n",
    "\n",
    "e_{ij} = r_{ij} - \\text{{prediction at}}~ (i,j)\n",
    "\n",
    "\n",
    "$$\n",
    "\n",
    "The rationale for this computation is:\n",
    "\n",
    "1. **Objective of Matrix Factorization:** The primary goal of matrix factorization in recommender systems is to approximate the original ratings matrix as closely as possible. By decomposing this matrix into two lower-dimensional matrices (which represent the latent factors for users and items), the predicted rating is obtained as the dot product of the user and item latent vectors.\n",
    "\n",
    "2. **Quantifying Deviation:** To gauge the accuracy of our matrix factorization, we need a measure to quantify the deviation between our predictions and the actual ratings. This deviation (or error) for a user-item pair is the difference between its actual rating and the predicted one.\n",
    "\n",
    "3. **Optimization:** During the optimization phase (like gradient descent), the goal is to minimize the cumulative error across all user-item pairs. Defining the error as the difference between actual and predicted ratings ensures the optimization process tweaks the latent factors to make the predicted ratings converge to the actual ones.\n",
    "\n",
    "In essence, this method of computing error offers a direct measure of prediction accuracy, crucial for optimizing latent factors in matrix factorization.\n"
   ]
  },
  {
   "cell_type": "markdown",
   "metadata": {},
   "source": [
    "$\\color{red}{\\text{Question-2:}}$ Are the updates for $p_{i*}$ and $q_{*j}$ stochastic? Justify.\n",
    "\n",
    "$\\color{red}{\\text{Answer:}}$ Write your answer here.\n",
    "Yes, the updates for $p_{i*}$ and $q_{*j}$ in the `sgd` function are stochastic. The justification is as follows:\n",
    "\n",
    "1. **Definition of Stochastic Gradient Descent (SGD):** In SGD, rather than using the entire dataset to compute the gradient and update the weights (as in batch gradient descent), we update the weights based on the gradient computed from a single data point (or a small batch of data points).\n",
    "\n",
    "2. **Updates in the `sgd` method:** In the provided code for the `sgd` method, we iterate over the samples (i.e., the known ratings in the ratings matrix). For each sample, we:\n",
    "\n",
    "   - Compute the prediction and the error for that specific user-item pair.\n",
    "   - Update the user and item latent factors based on this error.\n",
    "\n",
    "   This means we're using a single data point (rating) at a time to compute the gradient and update the latent factors, which is characteristic of SGD.\n",
    "\n",
    "3. **Advantages of Stochastic Updates:** Using stochastic updates can help escape local minima and can lead to faster convergence, especially when the dataset is large. However, the path to convergence can be noisier compared to batch gradient descent.\n",
    "\n",
    "In conclusion, the updates for $p_{i*}$ and $q_{*j}$ in the `sgd` method are stochastic because they are based on individual samples rather than the entire dataset.\n"
   ]
  },
  {
   "cell_type": "markdown",
   "metadata": {},
   "source": [
    "# Adding Bias\n",
    "\n",
    "It is often observed in practice that adding a bias term helps. Let us add the bias term $b$ to the prediction function. The bias term is computed as the mean of the ratings matrix. See the predict function below to see how bias is added.\n"
   ]
  },
  {
   "cell_type": "markdown",
   "metadata": {},
   "source": [
    "$\\color{red}{\\text{Question-2b:}}$ Read the main reference paper and justify why bias is added. Note in this notebook we add global bias. Which other bias term was suggested in the paper?\n"
   ]
  },
  {
   "cell_type": "markdown",
   "metadata": {},
   "source": [
    "$\\color{red}{\\text{Answer:}}$\n",
    "\n",
    "1. **Global Bias $ \\mu $**:\n",
    "   This is the overall average rating across all items and users. It represents a general baseline rating that can be expected without knowing anything about a specific user or item.\n",
    "\n",
    "2. **User Bias $ b_u $**:\n",
    "   This represents the deviation of a particular user from the average. For instance, some users might generally rate movies more critically than others. This bias term captures such tendencies.\n",
    "\n",
    "3. **Item Bias $ b_i $**:\n",
    "   Similarly, this captures the deviation of a particular item from the average. Some items might be universally acclaimed and tend to receive higher ratings, while others might be polarizing or generally not as well-received.\n"
   ]
  },
  {
   "cell_type": "code",
   "execution_count": null,
   "metadata": {},
   "outputs": [],
   "source": [
    "class LF():\n",
    "    def __init__(self, R, K, alpha, gamma, iterations, bias=True):\n",
    "        self.R = R\n",
    "        self.num_users, self.num_items = R.shape\n",
    "        self.K = K\n",
    "        self.alpha = alpha\n",
    "        self.gamma = gamma\n",
    "        self.iterations = iterations\n",
    "        self.bias = bias\n",
    "\n",
    "    def train(self, tp=0):\n",
    "        self.P = np.random.normal(\n",
    "            scale=1./self.K, size=(self.num_users, self.K))\n",
    "        self.Q = np.random.normal(\n",
    "            scale=1./self.K, size=(self.num_items, self.K))\n",
    "\n",
    "        self.b = np.mean(self.R[np.where(self.R != 0)]) if self.bias else 0\n",
    "\n",
    "        self.samples = [\n",
    "            (i, j, self.R[i, j])\n",
    "            for i in range(self.num_users)\n",
    "            for j in range(self.num_items)\n",
    "            if self.R[i, j] > 0\n",
    "        ]\n",
    "        training_process = []\n",
    "        for i in range(self.iterations):\n",
    "            np.random.shuffle(self.samples)\n",
    "            if tp == 0:\n",
    "                self.sgd()\n",
    "            else:\n",
    "                self.gd_All()\n",
    "            mse = self.mse()\n",
    "            training_process.append((i, mse))\n",
    "            if (i+1) % 10 == 0:\n",
    "                if tp == 0:\n",
    "                    print(\"SGD Iteration: %d ; error = %.4f\" % (i+1, mse))\n",
    "                else:\n",
    "                    print(\"GD Iteration: %d ; error = %.4f\" % (i+1, mse))\n",
    "\n",
    "        return training_process\n",
    "\n",
    "    def mse(self):\n",
    "        xs, ys = self.R.nonzero()\n",
    "        predicted = self.full_matrix()\n",
    "        error = 0\n",
    "        for x, y in zip(xs, ys):\n",
    "            error += pow(self.R[x, y] - predicted[x, y], 2)\n",
    "        return np.sqrt(error)\n",
    "\n",
    "    def sgd(self):\n",
    "        for i, j, r in self.samples:\n",
    "            prediction = self.predict(i, j)\n",
    "            e = (r - prediction)\n",
    "            # ic(self.P[i, :].shape)\n",
    "            # ic(self.Q[j, :].shape)\n",
    "            # ic(e.shape)\n",
    "\n",
    "            # ic(self.b.shape)\n",
    "            self.P[i, :] += self.alpha * \\\n",
    "                (e * self.Q[j, :] - self.gamma * self.P[i, :])\n",
    "            self.Q[j, :] += self.alpha * \\\n",
    "                (e * self.P[i, :] - self.gamma * self.Q[j, :])\n",
    "\n",
    "    def gd_All(self):\n",
    "        # Initialize gradients for P and Q\n",
    "        grad_P = np.zeros((self.num_users, self.K))\n",
    "        grad_Q = np.zeros((self.num_items, self.K))\n",
    "\n",
    "        predictions = self.full_matrix()\n",
    "        observed_ratings_mask = (self.R > 0)\n",
    "\n",
    "        errors = (self.R - predictions) * observed_ratings_mask\n",
    "\n",
    "        # Compute gradients for P and Q using vectorized operations\n",
    "        for j in range(self.num_items):\n",
    "            grad_P += -2 * \\\n",
    "                np.outer(errors[:, j], self.Q[j, :]) + 2 * self.gamma * self.P\n",
    "\n",
    "        for i in range(self.num_users):\n",
    "            grad_Q += -2 * \\\n",
    "                np.outer(errors[i, :], self.P[i, :]) + 2 * self.gamma * self.Q\n",
    "\n",
    "        # Update user and item latent feature matrices using the computed gradients\n",
    "        self.P -= self.alpha * grad_P\n",
    "        self.Q -= self.alpha * grad_Q\n",
    "\n",
    "    def predict(self, i, j):\n",
    "        return self.b + self.P[i, :].dot(self.Q[j, :].T)\n",
    "\n",
    "    def full_matrix(self):\n",
    "        return self.b + self.P.dot(self.Q.T)"
   ]
  },
  {
   "cell_type": "code",
   "execution_count": null,
   "metadata": {},
   "outputs": [],
   "source": [
    "R = np.array([\n",
    "    [5, 3, 0, 1],\n",
    "    [4, 0, 0, 1],\n",
    "    [1, 1, 0, 5],\n",
    "    [1, 0, 0, 4],\n",
    "    [0, 1, 5, 4],\n",
    "])\n",
    "\n",
    "lf = LF(R, K=2, alpha=0.1, gamma=0.01, iterations=100)\n",
    "training_process = lf.train()\n",
    "print()\n",
    "print(\"P x Q:\")\n",
    "print(lf.full_matrix())\n",
    "print()\n",
    "print(\"Global bias:\")\n",
    "print(lf.b)\n",
    "print()"
   ]
  },
  {
   "cell_type": "markdown",
   "metadata": {},
   "source": [
    "# More questions\n"
   ]
  },
  {
   "cell_type": "markdown",
   "metadata": {},
   "source": [
    "$\\color{red}{\\text{Question-3:}}$ Implement the full gradient descent method\n",
    "\n",
    "$\\color{red}{\\text{Answer:}}$ Complete gd function above\n"
   ]
  },
  {
   "cell_type": "markdown",
   "metadata": {},
   "source": [
    "$\\color{red}{\\text{Question-4:}}$ Vectorize the updates of p and q, by vectorizing s (detailed above)\n",
    "\n",
    "$\\color{red}{\\text{Answer:}}$ Fill the TODO in code above\n"
   ]
  },
  {
   "cell_type": "markdown",
   "metadata": {},
   "source": [
    "### Using the code below, answer the following:\n"
   ]
  },
  {
   "cell_type": "code",
   "execution_count": null,
   "metadata": {},
   "outputs": [],
   "source": [
    "x = [x for x, y in training_process]\n",
    "y = [y for x, y in training_process]\n",
    "plt.figure(figsize=((16, 4)))\n",
    "plt.plot(x, y)\n",
    "plt.xticks(x, x)\n",
    "plt.xlabel(\"Iterations\")\n",
    "plt.ylabel(\"Mean Square Error\")\n",
    "plt.grid(axis=\"y\")"
   ]
  },
  {
   "cell_type": "markdown",
   "metadata": {},
   "source": [
    "Alpha changed to 0.03 instead of 1\n"
   ]
  },
  {
   "cell_type": "markdown",
   "metadata": {},
   "source": [
    "$\\color{red}{\\text{Question-5:}}$ Plot the MSE versus iterations for $\\alpha=1, \\gamma=0.01$ and 100 iterations of SGD\n",
    "\n",
    "$\\color{red}{\\text{Answer:}}$ Put your figure here\n"
   ]
  },
  {
   "cell_type": "code",
   "execution_count": null,
   "metadata": {},
   "outputs": [],
   "source": [
    "import matplotlib.pyplot as plt\n",
    "\n",
    "\n",
    "def train_and_plot(R, K=2, alpha=0.1, gamma=0.01, iterations=100, bias=True, tp=0):\n",
    "    lf = LF(R, K=K, alpha=alpha, gamma=gamma, iterations=iterations, bias=bias)\n",
    "    training_process = lf.train(tp=tp)\n",
    "\n",
    "    print(\"\\nP x Q:\")\n",
    "    print(lf.full_matrix())\n",
    "    print(\"\\nGlobal bias:\")\n",
    "    print(lf.b)\n",
    "    print()\n",
    "\n",
    "    x = [x for x, y in training_process]\n",
    "    y = [y for x, y in training_process]\n",
    "    plt.figure(figsize=((16, 4)))\n",
    "    plt.plot(x, y)\n",
    "    plt.xticks(x, x)\n",
    "    plt.xlabel(\"Iterations\")\n",
    "    plt.ylabel(\"Mean Square Error\")\n",
    "    plt.grid(axis=\"y\")\n",
    "    plt.show()\n",
    "\n",
    "\n",
    "train_and_plot(R, K=2, alpha=0.03, gamma=0.01, iterations=100)"
   ]
  },
  {
   "cell_type": "markdown",
   "metadata": {},
   "source": [
    "$\\color{red}{\\text{Question-6:}}$ Show the plot for 50 iterations, $\\alpha=1, \\gamma=0.01$ of SGD without bias, i.e., $b=0$\n",
    "\n",
    "$\\color{red}{\\text{Answer:}}$ Paste your output and figures here or below this cell\n"
   ]
  },
  {
   "cell_type": "code",
   "execution_count": null,
   "metadata": {},
   "outputs": [],
   "source": [
    "train_and_plot(R, K=2, alpha=0.03, gamma=0.01, iterations=50, bias=False)"
   ]
  },
  {
   "cell_type": "markdown",
   "metadata": {},
   "source": [
    "$\\color{red}{\\text{Question-7:}}$ Repeat above with bias\n",
    "\n",
    "$\\color{red}{\\text{Answer:}}$ Paste your output and figures here or below this cell\n"
   ]
  },
  {
   "cell_type": "code",
   "execution_count": null,
   "metadata": {},
   "outputs": [],
   "source": [
    "train_and_plot(R, K=2, alpha=0.03, gamma=0.01, iterations=50, bias=True)"
   ]
  },
  {
   "cell_type": "markdown",
   "metadata": {},
   "source": [
    "$\\color{red}{\\text{Question-8:}}$ Show plots with values of regularization parameters to be 1, 0.1, 0.01, 0.001 and for 50 iterations, and $\\alpha=1, \\gamma=0.01$\n",
    "\n",
    "$\\color{red}{\\text{Answer:}}$ Paste all your plots here or below this cell.\n"
   ]
  },
  {
   "cell_type": "code",
   "execution_count": null,
   "metadata": {},
   "outputs": [],
   "source": [
    "for gamma in [0.001, 0.01, 0.1, 1]:\n",
    "    print(f\"Gamma: {gamma}\")\n",
    "    train_and_plot(R, K=2, alpha=0.03, gamma=gamma, iterations=50, bias=True)"
   ]
  },
  {
   "cell_type": "markdown",
   "metadata": {},
   "source": [
    "$\\color{red}{\\text{Question-9:}}$ Prove that the loss function is not convex. Is the loss function differentiable?\n",
    "\n",
    "$\\color{red}{\\text{Answer:}}$ Write your answer here.\n",
    "\n",
    "Before delving into the analysis, it's worth noting that we are considering a special case of the loss function:\n",
    "\n",
    "$$\n",
    "\\mathcal{L}(p, q) = -pq + \\gamma (p^2 + q^2)\n",
    "$$\n",
    "\n",
    "This examination is significant because if the function is not convex for this special case when R has zeroes everywhere, it implies that the function is not convex for the general case as well.\n",
    "\n",
    "## Convexity:\n",
    "\n",
    "### Hessian Matrix:\n",
    "\n",
    "The Hessian matrix for the function is computed as:\n",
    "\n",
    "$$\n",
    "H(\\mathcal{L}) = \\begin{bmatrix}\n",
    "2\\gamma & -1 \\\\\n",
    "-1 & 2\\gamma \\\\\n",
    "\\end{bmatrix}\n",
    "$$\n",
    "\n",
    "### Eigenvalues:\n",
    "\n",
    "By deriving the characteristic polynomial of the Hessian, we deduced the eigenvalues:\n",
    "\n",
    "$$\n",
    "\\lambda_1 = \\frac{4\\gamma + \\sqrt{16 - 4(4\\gamma^2 - 1)}}{2}\n",
    "$$\n",
    "\n",
    "$$\n",
    "\\lambda_2 = \\frac{4\\gamma - \\sqrt{16 - 4(4\\gamma^2 - 1)}}{2}\n",
    "$$\n",
    "\n",
    "For the function to be convex, both $ \\lambda_1 $ and $ \\lambda_2 $ must be non-negative, indicating that the Hessian is positive semidefinite everywhere. However, for certain values of $ \\gamma $ (especially when $ \\gamma $ is small), one of the eigenvalues can become negative. This would mean that the Hessian is not positive-definite everywhere, and as a result, the function is not convex across its entire domain.\n",
    "\n",
    "It's determined that for the range $ -\\frac{\\sqrt{10}}{4} < \\gamma < \\frac{\\sqrt{10}}{4} $, at least one eigenvalue is negative. This implies that the function is not convex for values of $ \\gamma $ within this range. This means that the function is not generally convex.\n",
    "\n",
    "## Differentiability:\n",
    "\n",
    "The loss function $ \\mathcal{L}(p, q) = -pq + \\gamma (p^2 + q^2) $ is differentiable everywhere. This is because it consists of terms that have continuous first derivatives with respect to both $ p $ and $ q $ across their entire domain.\n"
   ]
  },
  {
   "cell_type": "markdown",
   "metadata": {},
   "source": [
    "## Bonus Question\n"
   ]
  },
  {
   "cell_type": "markdown",
   "metadata": {},
   "source": [
    "$\\color{red}{\\text{Question-10:}}$ In the reference paper [1] above, additional bias terms are recommended, implement it\n",
    "\n",
    "$\\color{red}{\\text{Answer:}}$ Put your modified function here or below this cell.\n"
   ]
  },
  {
   "cell_type": "code",
   "execution_count": 158,
   "metadata": {},
   "outputs": [],
   "source": [
    "from icecream import ic\n",
    "\n",
    "\n",
    "class LF_b():\n",
    "    def __init__(self, R, K, alpha, gamma, iterations, bias=True):\n",
    "        self.R = R\n",
    "        self.num_users, self.num_items = R.shape\n",
    "        self.K = K\n",
    "        self.alpha = alpha\n",
    "        self.gamma = gamma\n",
    "        self.iterations = iterations\n",
    "        self.bias = bias\n",
    "\n",
    "    def train(self, tp=0):\n",
    "        self.P = np.random.normal(\n",
    "            scale=1./self.K, size=(self.num_users, self.K))\n",
    "        self.Q = np.random.normal(\n",
    "            scale=1./self.K, size=(self.num_items, self.K))\n",
    "\n",
    "        self.mu = np.mean(self.R[np.where(self.R != 0)])\n",
    "        if self.bias:\n",
    "            self.b_i = np.array(\n",
    "                [np.mean(self.R[np.where(self.R[:, i] != 0)]) - self.mu if self.R[np.where(self.R[:, i] != 0)].size else 0 for i in range(self.num_items)])\n",
    "            self.b_u = np.array(\n",
    "                [np.mean(self.R[np.where(self.R[i, :] != 0)]) - self.mu if self.R[np.where(self.R[i, :] != 0)].size else 0 for i in range(self.num_users)])\n",
    "            # sum\n",
    "            self.b = np.array([np.array([self.b_u[j] + self.mu + self.b_i[i]\n",
    "                                         for i in range(self.num_items)]) for j in range(self.num_users)])\n",
    "        else:\n",
    "            self.b = 0\n",
    "            self.b_i = 0\n",
    "            self.b_u = 0\n",
    "\n",
    "        self.samples = [\n",
    "            (i, j, self.R[i, j])\n",
    "            for i in range(self.num_users)\n",
    "            for j in range(self.num_items)\n",
    "            if self.R[i, j] > 0\n",
    "        ]\n",
    "        training_process = []\n",
    "        for i in range(self.iterations):\n",
    "            np.random.shuffle(self.samples)\n",
    "            if tp == 0:\n",
    "                self.sgd()\n",
    "            else:\n",
    "                self.gd_All()\n",
    "            mse = self.mse()\n",
    "            training_process.append((i, mse))\n",
    "            if (i+1) % 10 == 0:\n",
    "                if tp == 0:\n",
    "                    print(\"SGD Iteration: %d ; error = %.4f\" % (i+1, mse))\n",
    "                else:\n",
    "                    print(\"GD Iteration: %d ; error = %.4f\" % (i+1, mse))\n",
    "\n",
    "        return training_process\n",
    "\n",
    "    def mse(self):\n",
    "        xs, ys = self.R.nonzero()\n",
    "        predicted = self.full_matrix()\n",
    "        error = 0\n",
    "        for x, y in zip(xs, ys):\n",
    "            error += pow(self.R[x, y] - predicted[x, y], 2)\n",
    "        return np.sqrt(error)\n",
    "\n",
    "    def sgd(self):\n",
    "        for i, j, r in self.samples:\n",
    "            prediction = self.predict_all_bias(i, j)\n",
    "            e = (r - prediction)\n",
    "            # print shapes\n",
    "            # ic(self.P[i, :].shape)\n",
    "            # ic(self.Q[j, :].shape)\n",
    "            # ic(e.shape)\n",
    "            # ic(self.b_u[i].shape)\n",
    "            # ic(self.b_i[j].shape)\n",
    "            # ic(self.b.shape)\n",
    "\n",
    "            self.P[i, :] += self.alpha * \\\n",
    "                (e * self.Q[j, :] - self.gamma * self.P[i, :])\n",
    "            self.Q[j, :] += self.alpha * \\\n",
    "                (e * self.P[i, :] - self.gamma * self.Q[j, :])\n",
    "\n",
    "    def gd_All(self):\n",
    "        # Initialize gradients for P and Q\n",
    "        grad_P = np.zeros((self.num_users, self.K))\n",
    "        grad_Q = np.zeros((self.num_items, self.K))\n",
    "\n",
    "        predictions = self.b_u[:, np.newaxis] + self.mu + \\\n",
    "            self.b_i[np.newaxis, :] + self.P.dot(self.Q.T)\n",
    "\n",
    "        observed_ratings_mask = (self.R > 0)\n",
    "\n",
    "        errors = (self.R - predictions) * observed_ratings_mask\n",
    "\n",
    "        # Compute gradients for P and Q using vectorized operations\n",
    "        for j in range(self.num_items):\n",
    "            grad_P += -2 * \\\n",
    "                np.outer(errors[:, j], self.Q[j, :]) + 2 * self.gamma * self.P\n",
    "\n",
    "        for i in range(self.num_users):\n",
    "            grad_Q += -2 * \\\n",
    "                np.outer(errors[i, :], self.P[i, :]) + 2 * self.gamma * self.Q\n",
    "\n",
    "        # Update user and item latent feature matrices using the computed gradients\n",
    "        self.P -= self.alpha * grad_P\n",
    "        self.Q -= self.alpha * grad_Q\n",
    "\n",
    "    def predict(self, i, j):\n",
    "        return self.mu + self.P[i, :].dot(self.Q[j, :].T)\n",
    "\n",
    "    def predict_all_bias(self, i, j):\n",
    "        return self.mu + self.b_i[j] + self.b_u[i] + self.P[i, :].dot(self.Q[j, :].T)\n",
    "\n",
    "    def full_matrix(self):\n",
    "        return self.b + self.P.dot(self.Q.T)"
   ]
  },
  {
   "cell_type": "code",
   "execution_count": 159,
   "metadata": {},
   "outputs": [
    {
     "name": "stdout",
     "output_type": "stream",
     "text": [
      "SGD Iteration: 10 ; error = 8.2907\n",
      "SGD Iteration: 20 ; error = 6.5189\n",
      "SGD Iteration: 30 ; error = 4.9321\n",
      "SGD Iteration: 40 ; error = 1.7808\n",
      "SGD Iteration: 50 ; error = 1.2122\n",
      "SGD Iteration: 60 ; error = 1.1452\n",
      "SGD Iteration: 70 ; error = 1.0906\n",
      "SGD Iteration: 80 ; error = 1.0363\n",
      "SGD Iteration: 90 ; error = 0.9823\n",
      "SGD Iteration: 100 ; error = 0.9291\n",
      "\n",
      "P x Q:\n",
      "[[ 5.05680944  2.61839397 -1.59796856  1.04617507]\n",
      " [ 3.94931313  2.32438539 -0.68152005  1.00472478]\n",
      " [ 0.87242405  1.55482968  3.60664241  4.89851023]\n",
      " [ 1.03987135  1.61357288  3.11242321  3.97295402]\n",
      " [-1.9449238   0.4095602   4.87620231  4.09450876]]\n",
      "\n",
      "Global bias:\n",
      "[[0.43910256 0.98076923 1.31410256 0.61410256]\n",
      " [0.60576923 1.1474359  1.48076923 0.78076923]\n",
      " [0.43910256 0.98076923 1.31410256 0.61410256]\n",
      " [0.60576923 1.1474359  1.48076923 0.78076923]\n",
      " [0.2724359  0.81410256 1.1474359  0.4474359 ]]\n",
      "\n"
     ]
    },
    {
     "data": {
      "image/png": "[encoded data removed]",
      "text/plain": [
       "<Figure size 1600x400 with 1 Axes>"
      ]
     },
     "metadata": {},
     "output_type": "display_data"
    }
   ],
   "source": [
    "def train_and_plotb(R, K=2, alpha=0.1, gamma=0.01, iterations=100, bias=True, tp=0):\n",
    "    lf = LF_b(R, K=K, alpha=alpha, gamma=gamma,\n",
    "              iterations=iterations, bias=bias)\n",
    "    training_process = lf.train(tp=tp)\n",
    "\n",
    "    print(\"\\nP x Q:\")\n",
    "    print(lf.full_matrix())\n",
    "    print(\"\\nGlobal bias:\")\n",
    "    print(lf.b)\n",
    "    print()\n",
    "\n",
    "    x = [x for x, y in training_process]\n",
    "    y = [y for x, y in training_process]\n",
    "    plt.figure(figsize=((16, 4)))\n",
    "    plt.plot(x, y)\n",
    "    plt.xticks(x, x)\n",
    "    plt.xlabel(\"Iterations\")\n",
    "    plt.ylabel(\"Mean Square Error\")\n",
    "    plt.grid(axis=\"y\")\n",
    "    plt.show()\n",
    "\n",
    "\n",
    "train_and_plotb(R, K=2, alpha=0.02, gamma=0.01, iterations=100, bias=True)"
   ]
  },
  {
   "cell_type": "markdown",
   "metadata": {},
   "source": [
    "$\\color{red}{\\text{Question-11:}}$ Download the netflix ratings matrix, and run your algorithm.\n",
    "\n",
    "$\\color{red}{\\text{Answer:}}$ Put your MSE versus iterations here.\n"
   ]
  },
  {
   "cell_type": "markdown",
   "metadata": {},
   "source": [
    "## Thats All Folks! Further Readings or Infomation\n",
    "\n",
    "https://www.coursera.org/learn/networks-illustrated/lecture/8GPZT/netflix-timeline\n"
   ]
  },
  {
   "cell_type": "markdown",
   "metadata": {},
   "source": [
    "# Keep Recommending!\n"
   ]
  }
 ],
 "metadata": {
  "kernelspec": {
   "display_name": "Python 3 (ipykernel)",
   "language": "python",
   "name": "python3"
  },
  "language_info": {
   "codemirror_mode": {
    "name": "ipython",
    "version": 3
   },
   "file_extension": ".py",
   "mimetype": "text/x-python",
   "name": "python",
   "nbconvert_exporter": "python",
   "pygments_lexer": "ipython3",
   "version": "3.8.10"
  }
 },
 "nbformat": 4,
 "nbformat_minor": 4
}
