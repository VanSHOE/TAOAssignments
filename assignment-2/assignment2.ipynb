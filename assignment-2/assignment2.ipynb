{
  "cells": [
    {
      "cell_type": "markdown",
      "metadata": {
        "id": "-XaCfZMSUNL-"
      },
      "source": [
        "# Linear and Quadratic Programming Using CVXOPT\n"
      ]
    },
    {
      "cell_type": "markdown",
      "metadata": {
        "id": "ZensYnePUNL_"
      },
      "source": [
        "The standard form for primal and dual linear programs (slightly different from what was done in class, here RHS of equality and inequality is not kept zero) in cvxopt library is given as follows\n",
        "\n",
        "$$\n",
        "\\begin{align*}\n",
        "\\text{minimize} \\quad &c^T x \\\\\n",
        "\\text{subject} \\quad &Gx \\leq h \\\\\n",
        "&Ax = b\\\\\n",
        "\\end{align*}\n",
        "$$\n"
      ]
    },
    {
      "cell_type": "markdown",
      "metadata": {
        "id": "87IWX1MIUNL_"
      },
      "source": [
        "We would like to solve the following linear programming problem.\n",
        "\n",
        "$$\n",
        "\\begin{align*}\n",
        "\\text{minimize} \\quad &-4x_1 - 5 x_2 \\\\\n",
        "\\text{subject to} \\quad &2x_1 + x_2 \\leq 3 \\\\\n",
        "&x_1 + 2x_2 \\leq 3 \\\\\n",
        "&x_1 \\geq 0, \\: x_2 \\geq 0.\n",
        "\\end{align*}\n",
        "$$\n",
        "\n",
        "We can write all inequalities as $\\leq$ as follows\n",
        "\n",
        "$$\n",
        "\\begin{align*}\n",
        "\\text{minimize} \\quad &-4x_1 - 5 x_2 \\\\\n",
        "\\text{subject to} \\quad &2x_1 + x_2 \\leq 3 \\\\\n",
        "&x_1 + 2x_2 \\leq 3 \\\\\n",
        "-&x_1 + 0 x_2 \\leq 0 \\\\\n",
        "&0 x_1 - x_2 \\leq 0.\n",
        "\\end{align*}\n",
        "$$\n",
        "\n",
        "To solve this using cvxopt library, we have\n",
        "\n",
        "$$\n",
        "G = \\begin{bmatrix}\n",
        "2 & 1 \\\\\n",
        "1 & 2 \\\\\n",
        "-1 & 0 \\\\\n",
        "0 & -1\n",
        "\\end{bmatrix}, \\quad c^T = [-4, -5], \\quad h = \\begin{bmatrix}\n",
        "3 \\\\\n",
        "3 \\\\\n",
        "0 \\\\\n",
        "0\n",
        "\\end{bmatrix}\n",
        "$$\n"
      ]
    },
    {
      "cell_type": "code",
      "execution_count": 2,
      "metadata": {},
      "outputs": [
        {
          "name": "stdout",
          "output_type": "stream",
          "text": [
            "Collecting cvxopt\n",
            "  Downloading cvxopt-1.3.2-cp38-cp38-win_amd64.whl (12.8 MB)\n",
            "Installing collected packages: cvxopt\n",
            "Successfully installed cvxopt-1.3.2\n"
          ]
        },
        {
          "name": "stderr",
          "output_type": "stream",
          "text": [
            "WARNING: You are using pip version 21.1.1; however, version 23.2.1 is available.\n",
            "You should consider upgrading via the 'C:\\Users\\space\\AppData\\Local\\Microsoft\\WindowsApps\\PythonSoftwareFoundation.Python.3.8_qbz5n2kfra8p0\\python.exe -m pip install --upgrade pip' command.\n"
          ]
        }
      ],
      "source": [
        "! python -m pip install cvxopt"
      ]
    },
    {
      "cell_type": "code",
      "execution_count": 6,
      "metadata": {
        "colab": {
          "base_uri": "https://localhost:8080/"
        },
        "id": "fXXx8sjmUNMA",
        "outputId": "7fc194b8-2334-46a7-9fff-5106aa02f7cd"
      },
      "outputs": [
        {
          "name": "stdout",
          "output_type": "stream",
          "text": [
            "[ 1.00e+00]\n",
            "[ 1.00e+00]\n",
            "\n"
          ]
        }
      ],
      "source": [
        "from cvxopt import matrix, solvers\n",
        "c = matrix([-4., -5.])\n",
        "G = matrix([[2., 1., -1., 0.], [1., 2., 0., -1.]])\n",
        "h = matrix([3., 3., 0., 0.])\n",
        "sol = solvers.lp(c, G, h)\n",
        "print(sol['x'])"
      ]
    },
    {
      "cell_type": "markdown",
      "metadata": {
        "id": "EBqNrhrjUNMA"
      },
      "source": [
        "## Model a Linear Program and Solve it using CVXOPT\n",
        "\n",
        "Consider the problem of modeling a problem as linear programming problem.\n",
        "A car company BNW has 4 manufacturing branches all over India. Number of labour units, materials, and pollution units are given as follows:\n",
        "\n",
        "$$\n",
        "\\begin{array}{r|r}\n",
        "& Labourers & Resources & Pollution \\\\ \\hline\n",
        "Factory 1 & 30 & 30 & 10 \\\\\n",
        "Factory 2 & 30 & 60 & 5 \\\\\n",
        "Factory 3 & 40 & 70 & 3 \\\\\n",
        "Factory 4 & 20 & 30 & 11\n",
        "\\end{array}\n",
        "$$\n",
        "\n",
        "Let $x_1, x_2, x_3, x_4$ be the number of cars produced at these factories. The objective is to maximize the number of cars produced, given the following constraints:\n",
        "\n",
        "<ol>\n",
        "<li> Factory 3 must produce at least 4 cars\n",
        "    <li> All other factories must produce at least 1 car\n",
        "<li> The total labour hours available is 4000, and\n",
        "<li> The number of material resources available is 16000\n",
        "<li> Total units of pollution must not be more than 12000\n",
        "</ol>\n"
      ]
    },
    {
      "cell_type": "markdown",
      "metadata": {
        "id": "uNpeYV_bUNMB"
      },
      "source": [
        "$\\color{red}{Question:}$ Model the above problem as linear program.\n"
      ]
    },
    {
      "cell_type": "markdown",
      "metadata": {
        "id": "w0_QL8mWUNMB"
      },
      "source": [
        "$\\color{blue}{Answer:}$\n",
        "\n",
        "### Decision Variables:\n",
        "\n",
        "Let:\n",
        "\n",
        "- x1 = Number of cars produced by Factory 1\n",
        "- x2 = Number of cars produced by Factory 2\n",
        "- x3 = Number of cars produced by Factory 3\n",
        "- x4 = Number of cars produced by Factory 4\n",
        "\n",
        "### Objective Function:\n",
        "\n",
        "We are to maximize the total number of cars produced:\n",
        "Maximize Z = x1 + x2 + x3 + x4\n",
        "\n",
        "### Constraints:\n",
        "\n",
        "1. Factory 3 must produce at least 4 cars:\n",
        "   x3 >= 4\n",
        "\n",
        "2. All other factories must produce at least 1 car:\n",
        "   x1 >= 1\n",
        "   x2 >= 1\n",
        "   x4 >= 1\n",
        "\n",
        "3. The total labour hours available is 4000:\n",
        "   30x1 + 30x2 + 40x3 + 20x4 <= 4000\n",
        "\n",
        "4. The number of material resources available is 16000:\n",
        "   30x1 + 60x2 + 70x3 + 30x4 <= 16000\n",
        "\n",
        "5. Total units of pollution must not be more than 12000:\n",
        "   10x1 + 5x2 + 3x3 + 11x4 <= 12000\n"
      ]
    },
    {
      "cell_type": "markdown",
      "metadata": {
        "id": "ZXLO_W6CUNMB"
      },
      "source": [
        "$\\color{red}{Question:}$ Write the constraint matrices and vectors.\n"
      ]
    },
    {
      "cell_type": "markdown",
      "metadata": {
        "id": "zPHQ0XMNUNMB"
      },
      "source": [
        "$\\color{blue}{Answer:}$\n",
        "\n",
        "To model the Linear Program, we write it in standard form:\n",
        "\n",
        "Minimize $$ c^T x $$\n",
        "subject to \n",
        "$$ Ax \\leq b $$\n",
        "$$ x \\geq 0 $$\n",
        "\n",
        "### Coefficient Vector for Objective Function, $ c $\n",
        "\n",
        "The objective is to maximize the total number of cars produced, which can be represented as minimizing the negative of the total number of cars produced.\n",
        "$$ c = \\begin{bmatrix} -1 \\\\ -1 \\\\ -1 \\\\ -1 \\end{bmatrix} $$\n",
        "\n",
        "### Constraint Coefficients Matrix, $ A $ and Right-Hand Side Vector, $ b $\n",
        "\n",
        "- For the inequality constraints, the matrix $A$ and vector $b$ are defined as follows, incorporating all the given constraints including the minimum cars that need to be produced by each factory:\n",
        "  $$\n",
        "  A = \\begin{bmatrix}\n",
        "  30 & 30 & 40 & 20 \\\\\n",
        "  30 & 60 & 70 & 30 \\\\\n",
        "  10 & 5 & 3 & 11 \\\\\n",
        "  -1 & 0 & 0 & 0 \\\\\n",
        "  0 & -1 & 0 & 0 \\\\\n",
        "  0 & 0 & -1 & 0 \\\\\n",
        "  0 & 0 & 0 & -1 \\\\\n",
        "  \\end{bmatrix}\n",
        "  $$\n",
        "\n",
        "$$\n",
        "b = \\begin{bmatrix}\n",
        "4000 \\\\\n",
        "16000 \\\\\n",
        "12000 \\\\\n",
        "-1 \\\\\n",
        "-1 \\\\\n",
        "-4 \\\\\n",
        "-1 \\\\\n",
        "\\end{bmatrix}\n",
        "$$\n"
      ]
    },
    {
      "cell_type": "markdown",
      "metadata": {
        "id": "xF9Hwne1UNMB"
      },
      "source": [
        "$\\color{red}{Question:}$ Write python code, and show solution.\n"
      ]
    },
    {
      "cell_type": "code",
      "execution_count": 13,
      "metadata": {},
      "outputs": [
        {
          "name": "stdout",
          "output_type": "stream",
          "text": [
            "[ 1.00e+00]\n",
            "[ 1.00e+00]\n",
            "[ 4.00e+00]\n",
            "[ 1.89e+02]\n",
            "\n"
          ]
        }
      ],
      "source": [
        "from cvxopt import matrix, solvers\n",
        "\n",
        "# objective function coefficients. -1 to maximize\n",
        "c = matrix([-1., -1., -1., -1.])\n",
        "G = matrix([  # constraint coefficients\n",
        "    [30., 30., 10., -1., 0., 0., 0.],\n",
        "    [30., 60., 5., 0., -1., 0., 0.],\n",
        "    [40., 70., 3., 0., 0., -1., 0.],\n",
        "    [20., 30., 11., 0., 0., 0., -1.]\n",
        "])\n",
        "# constraint RHS Gx <= h\n",
        "h = matrix([4000., 16000., 12000., -1., -1., -4., -1.])\n",
        "# no equality constraints\n",
        "sol = solvers.lp(c, G, h)\n",
        "print(sol['x'])"
      ]
    },
    {
      "cell_type": "markdown",
      "metadata": {
        "id": "e2D9u-tiUNMC"
      },
      "source": [
        "$\\color{blue}{Answer:}$\n",
        "\n",
        "The Python code snippet provided is using the `cvxopt` library to solve a linear programming problem. The steps to it have been explained in the comments.\n"
      ]
    },
    {
      "cell_type": "markdown",
      "metadata": {
        "id": "Z9vRub3bUNMC"
      },
      "source": [
        "Your solution should be:\n",
        "\n",
        "[ 1.00e+00]\n",
        "[ 1.00e+00]\n",
        "[ 4.00e+00]\n",
        "[ 1.89e+02]\n"
      ]
    },
    {
      "cell_type": "markdown",
      "metadata": {
        "id": "7pYLJ5WxUNMC"
      },
      "source": [
        "# Quadratic Program\n",
        "\n",
        "We can write a quadratic program as follows:\n",
        "\n",
        "$$\n",
        "\\begin{align*}\n",
        "\\text{minimize} \\quad &(1/2)x^T P x + q^T x \\\\\n",
        "\\text{subject to} \\quad &Gx \\leq h \\\\\n",
        "&Ax = b\n",
        "\\end{align*}\n",
        "$$\n"
      ]
    },
    {
      "cell_type": "markdown",
      "metadata": {
        "id": "FcWFmbtqUNMC"
      },
      "source": [
        "Consider the following quadratic program.\n",
        "\n",
        "$$\n",
        "\\begin{align*}\n",
        "\\text{minimize} \\quad &2x_1^2 + x_2^2 + x_1x_2 + x_1 + x_2 \\\\\n",
        "\\text{subject to} \\quad &x_1 \\geq 0 \\\\\n",
        "&x_2 \\geq 0 \\\\\n",
        "&x_1 + 2x_2 = 1\n",
        "\\end{align*}\n",
        "$$\n"
      ]
    },
    {
      "cell_type": "markdown",
      "metadata": {
        "id": "hCLMBoSRUNMC"
      },
      "source": [
        "$\\color{red}{Question:}$ Identify $P, q, G, A, h, b$\n"
      ]
    },
    {
      "cell_type": "markdown",
      "metadata": {
        "id": "1wVpB0DPUNMC"
      },
      "source": [
        "$\\color{red}{Answer:}$ Write your answer here.\n",
        "\n",
        "1. **Matrix \\( P \\) (Quadratic Coefficients Matrix):**\n",
        "   Represents the coefficients of the quadratic and mixed terms in the objective function.\n",
        "\n",
        "   $$\n",
        "   P = \\begin{bmatrix} 4 & 1 \\\\ 1 & 2 \\end{bmatrix}\n",
        "   $$\n",
        "\n",
        "2. **Vector \\( q \\) (Linear Coefficients Vector):**\n",
        "   Represents the coefficients of the linear terms in the objective function.\n",
        "\n",
        "   $$\n",
        "   q = \\begin{bmatrix} 1 \\\\ 1 \\end{bmatrix}\n",
        "   $$\n",
        "\n",
        "3. **Matrix \\( G \\) (Inequality Constraint Coefficients Matrix):**\n",
        "   Represents the coefficients of the inequality constraints.\n",
        "\n",
        "   $$\n",
        "   G = \\begin{bmatrix} -1 & 0 \\\\ 0 & -1 \\end{bmatrix}\n",
        "   $$\n",
        "\n",
        "4. **Vector \\( h \\) (Right-hand Side of Inequality Constraints Vector):**\n",
        "   Represents the right-hand side of the inequality constraints.\n",
        "\n",
        "   $$\n",
        "   h = \\begin{bmatrix} 0 \\\\ 0 \\end{bmatrix}\n",
        "   $$\n",
        "\n",
        "5. **Matrix \\( A \\) (Equality Constraint Coefficients Matrix):**\n",
        "   Represents the coefficients of the equality constraints.\n",
        "\n",
        "   $$\n",
        "   A = \\begin{bmatrix} 1 & 2 \\end{bmatrix}\n",
        "   $$\n",
        "\n",
        "6. **Vector \\( b \\) (Right-hand Side of Equality Constraints Vector):**\n",
        "   Represents the right-hand side of the equality constraint.\n",
        "   $$\n",
        "   b = \\begin{bmatrix} 1 \\end{bmatrix}\n",
        "   $$\n"
      ]
    },
    {
      "cell_type": "markdown",
      "metadata": {
        "id": "GshChGk0UNMC"
      },
      "source": [
        "$\\color{red}{Question:}$ Complete the python code below by filling the matrices found above.\n"
      ]
    },
    {
      "cell_type": "code",
      "execution_count": 7,
      "metadata": {
        "id": "8R1WRCjGUNMC"
      },
      "outputs": [
        {
          "name": "stdout",
          "output_type": "stream",
          "text": [
            "     pcost       dcost       gap    pres   dres\n",
            " 0:  7.2853e-01  2.8532e-01  3e+00  1e+00  2e+00\n",
            " 1:  8.3896e-01  4.5876e-01  4e-01  6e-17  2e-16\n",
            " 2:  7.6893e-01  7.4535e-01  2e-02  6e-17  8e-17\n",
            " 3:  7.5086e-01  7.4997e-01  9e-04  6e-17  4e-17\n",
            " 4:  7.5001e-01  7.5000e-01  9e-06  2e-16  2e-16\n",
            " 5:  7.5000e-01  7.5000e-01  9e-08  1e-22  2e-16\n",
            "Optimal solution found.\n",
            "[ 1.74e-07]\n",
            "[ 5.00e-01]\n",
            "\n"
          ]
        }
      ],
      "source": [
        "from cvxopt import matrix, solvers\n",
        "\n",
        "Q = matrix([\n",
        "    [4., 1.],\n",
        "    [1., 2.]\n",
        "])\n",
        "\n",
        "p = matrix([1., 1.])\n",
        "\n",
        "G = matrix([\n",
        "    [-1., 0.],\n",
        "    [0., -1.]\n",
        "])\n",
        "\n",
        "h = matrix([0., 0.])\n",
        "A = matrix([1., 2.], (1, 2))\n",
        "b = matrix([1.])\n",
        "\n",
        "sol = solvers.qp(Q, p, G, h, A, b)\n",
        "print(sol['x'])"
      ]
    },
    {
      "cell_type": "markdown",
      "metadata": {
        "id": "1qXnzXqGUNMC"
      },
      "source": [
        "The solution should be:\n",
        "\n",
        "[ 0]\n",
        "\n",
        "[ 0.5]\n"
      ]
    },
    {
      "cell_type": "markdown",
      "metadata": {},
      "source": [
        "When solving optimization problems numerically, solutions may not always be exact due to the inherent limitations of numerical precision in solvers and computer's floating-point representation. A solution like $1.74 \\times 10^{-7}$ is practically equivalent to zero and is usually treated as such, especially when other values in the problem are significantly larger. In such cases, it is common to round such small values to zero, considering them as numerical artifacts.\n"
      ]
    }
  ],
  "metadata": {
    "colab": {
      "provenance": []
    },
    "kernelspec": {
      "display_name": "Python 3 (ipykernel)",
      "language": "python",
      "name": "python3"
    },
    "language_info": {
      "codemirror_mode": {
        "name": "ipython",
        "version": 3
      },
      "file_extension": ".py",
      "mimetype": "text/x-python",
      "name": "python",
      "nbconvert_exporter": "python",
      "pygments_lexer": "ipython3",
      "version": "3.8.10"
    }
  },
  "nbformat": 4,
  "nbformat_minor": 0
}
